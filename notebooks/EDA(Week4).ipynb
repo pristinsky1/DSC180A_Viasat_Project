{
 "cells": [
  {
   "cell_type": "code",
   "execution_count": 117,
   "metadata": {},
   "outputs": [],
   "source": [
    "import pandas as pd\n",
    "import numpy as np\n",
    "import pylab as pl"
   ]
  },
  {
   "cell_type": "markdown",
   "metadata": {},
   "source": [
    "In this EDA, we want to look into the different data captured and analyze what are some possible ways to identify whether that data was collected while a user was "
   ]
  },
  {
   "cell_type": "code",
   "execution_count": null,
   "metadata": {},
   "outputs": [],
   "source": []
  },
  {
   "cell_type": "code",
   "execution_count": 118,
   "metadata": {},
   "outputs": [],
   "source": [
    "#internet browsing data collection with VPN\n",
    "int1 = pd.read_csv('Week4-datafiles/intvpn.csv')\n",
    "int2 = pd.read_csv('Week4-datafiles/int2vpn.csv')\n",
    "int3 = pd.read_csv('Week4-datafiles/int3vpn.csv')"
   ]
  },
  {
   "cell_type": "code",
   "execution_count": 119,
   "metadata": {},
   "outputs": [],
   "source": [
    "#video streaming data collection with VPN\n",
    "vid1 = pd.read_csv('Week4-datafiles/testcsv1.csv')\n",
    "vid2 = pd.read_csv('Week4-datafiles/testcsv2.csv')\n",
    "vid3 = pd.read_csv('Week4-datafiles/testcsv3.csv')"
   ]
  },
  {
   "cell_type": "code",
   "execution_count": 120,
   "metadata": {},
   "outputs": [
    {
     "data": {
      "text/html": [
       "<div>\n",
       "<style scoped>\n",
       "    .dataframe tbody tr th:only-of-type {\n",
       "        vertical-align: middle;\n",
       "    }\n",
       "\n",
       "    .dataframe tbody tr th {\n",
       "        vertical-align: top;\n",
       "    }\n",
       "\n",
       "    .dataframe thead th {\n",
       "        text-align: right;\n",
       "    }\n",
       "</style>\n",
       "<table border=\"1\" class=\"dataframe\">\n",
       "  <thead>\n",
       "    <tr style=\"text-align: right;\">\n",
       "      <th></th>\n",
       "      <th>Time</th>\n",
       "      <th>IP1</th>\n",
       "      <th>Port1</th>\n",
       "      <th>IP2</th>\n",
       "      <th>Port2</th>\n",
       "      <th>Proto</th>\n",
       "      <th>1-&gt;2Bytes</th>\n",
       "      <th>2-&gt;1Bytes</th>\n",
       "      <th>1-&gt;2Pkts</th>\n",
       "      <th>2-&gt;1Pkts</th>\n",
       "      <th>packet_times</th>\n",
       "      <th>packet_sizes</th>\n",
       "      <th>packet_dirs</th>\n",
       "    </tr>\n",
       "  </thead>\n",
       "  <tbody>\n",
       "    <tr>\n",
       "      <th>0</th>\n",
       "      <td>1604972784</td>\n",
       "      <td>100.112.95.158</td>\n",
       "      <td>61917</td>\n",
       "      <td>100.113.29.201</td>\n",
       "      <td>8009</td>\n",
       "      <td>6</td>\n",
       "      <td>214</td>\n",
       "      <td>162</td>\n",
       "      <td>2</td>\n",
       "      <td>1</td>\n",
       "      <td>1604972784155;1604972784159;1604972784159;</td>\n",
       "      <td>162;162;52;</td>\n",
       "      <td>1;2;1;</td>\n",
       "    </tr>\n",
       "    <tr>\n",
       "      <th>1</th>\n",
       "      <td>1604972784</td>\n",
       "      <td>100.112.95.158</td>\n",
       "      <td>61934</td>\n",
       "      <td>100.112.254.17</td>\n",
       "      <td>8009</td>\n",
       "      <td>6</td>\n",
       "      <td>214</td>\n",
       "      <td>162</td>\n",
       "      <td>2</td>\n",
       "      <td>1</td>\n",
       "      <td>1604972784192;1604972784197;1604972784198;</td>\n",
       "      <td>162;162;52;</td>\n",
       "      <td>1;2;1;</td>\n",
       "    </tr>\n",
       "    <tr>\n",
       "      <th>2</th>\n",
       "      <td>1604972784</td>\n",
       "      <td>100.112.95.158</td>\n",
       "      <td>61916</td>\n",
       "      <td>100.112.223.112</td>\n",
       "      <td>8009</td>\n",
       "      <td>6</td>\n",
       "      <td>376</td>\n",
       "      <td>278</td>\n",
       "      <td>3</td>\n",
       "      <td>3</td>\n",
       "      <td>1604972784309;1604972784384;1604972784400;1604...</td>\n",
       "      <td>162;162;52;64;162;52;</td>\n",
       "      <td>1;1;2;2;2;1;</td>\n",
       "    </tr>\n",
       "    <tr>\n",
       "      <th>3</th>\n",
       "      <td>1604972784</td>\n",
       "      <td>100.112.95.158</td>\n",
       "      <td>63574</td>\n",
       "      <td>140.82.114.25</td>\n",
       "      <td>443</td>\n",
       "      <td>6</td>\n",
       "      <td>134</td>\n",
       "      <td>130</td>\n",
       "      <td>2</td>\n",
       "      <td>2</td>\n",
       "      <td>1604972784338;1604972784338;1604972784339;1604...</td>\n",
       "      <td>78;52;82;52;</td>\n",
       "      <td>2;1;1;2;</td>\n",
       "    </tr>\n",
       "    <tr>\n",
       "      <th>4</th>\n",
       "      <td>1604972784</td>\n",
       "      <td>100.112.95.158</td>\n",
       "      <td>50671</td>\n",
       "      <td>172.217.5.78</td>\n",
       "      <td>443</td>\n",
       "      <td>17</td>\n",
       "      <td>1667</td>\n",
       "      <td>692</td>\n",
       "      <td>3</td>\n",
       "      <td>3</td>\n",
       "      <td>1604972784409;1604972784409;1604972784415;1604...</td>\n",
       "      <td>1378;228;54;562;76;61;</td>\n",
       "      <td>1;1;2;2;2;1;</td>\n",
       "    </tr>\n",
       "  </tbody>\n",
       "</table>\n",
       "</div>"
      ],
      "text/plain": [
       "         Time             IP1  Port1              IP2  Port2  Proto  \\\n",
       "0  1604972784  100.112.95.158  61917   100.113.29.201   8009      6   \n",
       "1  1604972784  100.112.95.158  61934   100.112.254.17   8009      6   \n",
       "2  1604972784  100.112.95.158  61916  100.112.223.112   8009      6   \n",
       "3  1604972784  100.112.95.158  63574    140.82.114.25    443      6   \n",
       "4  1604972784  100.112.95.158  50671     172.217.5.78    443     17   \n",
       "\n",
       "   1->2Bytes  2->1Bytes  1->2Pkts  2->1Pkts  \\\n",
       "0        214        162         2         1   \n",
       "1        214        162         2         1   \n",
       "2        376        278         3         3   \n",
       "3        134        130         2         2   \n",
       "4       1667        692         3         3   \n",
       "\n",
       "                                        packet_times            packet_sizes  \\\n",
       "0         1604972784155;1604972784159;1604972784159;             162;162;52;   \n",
       "1         1604972784192;1604972784197;1604972784198;             162;162;52;   \n",
       "2  1604972784309;1604972784384;1604972784400;1604...   162;162;52;64;162;52;   \n",
       "3  1604972784338;1604972784338;1604972784339;1604...            78;52;82;52;   \n",
       "4  1604972784409;1604972784409;1604972784415;1604...  1378;228;54;562;76;61;   \n",
       "\n",
       "    packet_dirs  \n",
       "0        1;2;1;  \n",
       "1        1;2;1;  \n",
       "2  1;1;2;2;2;1;  \n",
       "3      2;1;1;2;  \n",
       "4  1;1;2;2;2;1;  "
      ]
     },
     "execution_count": 120,
     "metadata": {},
     "output_type": "execute_result"
    }
   ],
   "source": [
    "int1.head()"
   ]
  },
  {
   "cell_type": "markdown",
   "metadata": {},
   "source": [
    "In the extended version of network_stats that was provided to us by viasat, we can see there are a couple extra rows of data. These rows include [\"packet_times\", \"packet_sizes\", \"packet_dirs\"]"
   ]
  },
  {
   "cell_type": "code",
   "execution_count": 121,
   "metadata": {},
   "outputs": [
    {
     "data": {
      "text/html": [
       "<div>\n",
       "<style scoped>\n",
       "    .dataframe tbody tr th:only-of-type {\n",
       "        vertical-align: middle;\n",
       "    }\n",
       "\n",
       "    .dataframe tbody tr th {\n",
       "        vertical-align: top;\n",
       "    }\n",
       "\n",
       "    .dataframe thead th {\n",
       "        text-align: right;\n",
       "    }\n",
       "</style>\n",
       "<table border=\"1\" class=\"dataframe\">\n",
       "  <thead>\n",
       "    <tr style=\"text-align: right;\">\n",
       "      <th></th>\n",
       "      <th>Time</th>\n",
       "      <th>packet_sizes</th>\n",
       "      <th>packet_dirs</th>\n",
       "    </tr>\n",
       "  </thead>\n",
       "  <tbody>\n",
       "    <tr>\n",
       "      <th>0</th>\n",
       "      <td>1604972784</td>\n",
       "      <td>162;162;52;</td>\n",
       "      <td>1;2;1;</td>\n",
       "    </tr>\n",
       "    <tr>\n",
       "      <th>1</th>\n",
       "      <td>1604972784</td>\n",
       "      <td>162;162;52;</td>\n",
       "      <td>1;2;1;</td>\n",
       "    </tr>\n",
       "    <tr>\n",
       "      <th>2</th>\n",
       "      <td>1604972784</td>\n",
       "      <td>162;162;52;64;162;52;</td>\n",
       "      <td>1;1;2;2;2;1;</td>\n",
       "    </tr>\n",
       "    <tr>\n",
       "      <th>3</th>\n",
       "      <td>1604972784</td>\n",
       "      <td>78;52;82;52;</td>\n",
       "      <td>2;1;1;2;</td>\n",
       "    </tr>\n",
       "    <tr>\n",
       "      <th>4</th>\n",
       "      <td>1604972784</td>\n",
       "      <td>1378;228;54;562;76;61;</td>\n",
       "      <td>1;1;2;2;2;1;</td>\n",
       "    </tr>\n",
       "    <tr>\n",
       "      <th>...</th>\n",
       "      <td>...</td>\n",
       "      <td>...</td>\n",
       "      <td>...</td>\n",
       "    </tr>\n",
       "    <tr>\n",
       "      <th>3338</th>\n",
       "      <td>1604973434</td>\n",
       "      <td>40;40;</td>\n",
       "      <td>1;2;</td>\n",
       "    </tr>\n",
       "    <tr>\n",
       "      <th>3339</th>\n",
       "      <td>1604973434</td>\n",
       "      <td>162;162;52;</td>\n",
       "      <td>1;2;1;</td>\n",
       "    </tr>\n",
       "    <tr>\n",
       "      <th>3340</th>\n",
       "      <td>1604973434</td>\n",
       "      <td>40;40;</td>\n",
       "      <td>1;2;</td>\n",
       "    </tr>\n",
       "    <tr>\n",
       "      <th>3341</th>\n",
       "      <td>1604973434</td>\n",
       "      <td>40;40;</td>\n",
       "      <td>1;2;</td>\n",
       "    </tr>\n",
       "    <tr>\n",
       "      <th>3342</th>\n",
       "      <td>1604973434</td>\n",
       "      <td>40;40;</td>\n",
       "      <td>1;2;</td>\n",
       "    </tr>\n",
       "  </tbody>\n",
       "</table>\n",
       "<p>3343 rows × 3 columns</p>\n",
       "</div>"
      ],
      "text/plain": [
       "            Time            packet_sizes   packet_dirs\n",
       "0     1604972784             162;162;52;        1;2;1;\n",
       "1     1604972784             162;162;52;        1;2;1;\n",
       "2     1604972784   162;162;52;64;162;52;  1;1;2;2;2;1;\n",
       "3     1604972784            78;52;82;52;      2;1;1;2;\n",
       "4     1604972784  1378;228;54;562;76;61;  1;1;2;2;2;1;\n",
       "...          ...                     ...           ...\n",
       "3338  1604973434                  40;40;          1;2;\n",
       "3339  1604973434             162;162;52;        1;2;1;\n",
       "3340  1604973434                  40;40;          1;2;\n",
       "3341  1604973434                  40;40;          1;2;\n",
       "3342  1604973434                  40;40;          1;2;\n",
       "\n",
       "[3343 rows x 3 columns]"
      ]
     },
     "execution_count": 121,
     "metadata": {},
     "output_type": "execute_result"
    }
   ],
   "source": [
    "int1[[\"Time\", \"packet_sizes\", \"packet_dirs\"]]"
   ]
  },
  {
   "cell_type": "markdown",
   "metadata": {},
   "source": [
    "Below we are data scraping the last two columns in order to analyze and look at the two types of network movements/flows (1-2,2-1)"
   ]
  },
  {
   "cell_type": "code",
   "execution_count": 122,
   "metadata": {},
   "outputs": [],
   "source": [
    "#we are separating the column \"packet sizes\"\n",
    "int1_new_pksize = []\n",
    "for i in int1[\"packet_sizes\"]:\n",
    "    arr = i.split(\";\")\n",
    "    for j in arr[:-1]:\n",
    "        int1_new_pksize.append(j)\n",
    "        \n",
    "int2_new_pksize = []\n",
    "for i in int2[\"packet_sizes\"]:\n",
    "    arr = i.split(\";\")\n",
    "    for j in arr[:-1]:\n",
    "        int2_new_pksize.append(j)\n",
    "        \n",
    "        \n",
    "int3_new_pksize = []\n",
    "for i in int3[\"packet_sizes\"]:\n",
    "    arr = i.split(\";\")\n",
    "    for j in arr[:-1]:\n",
    "        int3_new_pksize.append(j)\n"
   ]
  },
  {
   "cell_type": "code",
   "execution_count": 123,
   "metadata": {},
   "outputs": [],
   "source": [
    "#we are separating the column \"packet sizes\"\n",
    "vid1_new_pksize = []\n",
    "for i in vid1[\"packet_sizes\"]:\n",
    "    arr = i.split(\";\")\n",
    "    for j in arr[:-1]:\n",
    "        vid1_new_pksize.append(j)\n",
    "        \n",
    "vid2_new_pksize = []\n",
    "for i in vid2[\"packet_sizes\"]:\n",
    "    arr = i.split(\";\")\n",
    "    for j in arr[:-1]:\n",
    "        vid2_new_pksize.append(j)\n",
    "        \n",
    "        \n",
    "vid3_new_pksize = []\n",
    "for i in vid3[\"packet_sizes\"]:\n",
    "    arr = i.split(\";\")\n",
    "    for j in arr[:-1]:\n",
    "        vid3_new_pksize.append(j)\n"
   ]
  },
  {
   "cell_type": "code",
   "execution_count": 124,
   "metadata": {},
   "outputs": [],
   "source": [
    "#we are separating the column \"packet dir\"\n",
    "int1_new_pkdir = []\n",
    "for i in int1[\"packet_dirs\"]:\n",
    "    arr = i.split(\";\")\n",
    "    for j in arr[:-1]:\n",
    "        int1_new_pkdir.append(j)\n",
    "        \n",
    "int2_new_pkdir = []\n",
    "for i in int2[\"packet_dirs\"]:\n",
    "    arr = i.split(\";\")\n",
    "    for j in arr[:-1]:\n",
    "        int2_new_pkdir.append(j)\n",
    "        \n",
    "int3_new_pkdir = []\n",
    "for i in int3[\"packet_dirs\"]:\n",
    "    arr = i.split(\";\")\n",
    "    for j in arr[:-1]:\n",
    "        int3_new_pkdir.append(j)"
   ]
  },
  {
   "cell_type": "code",
   "execution_count": 125,
   "metadata": {},
   "outputs": [],
   "source": [
    "#we are separating the column \"packet dir\"\n",
    "vid1_new_pkdir = []\n",
    "for i in vid1[\"packet_dirs\"]:\n",
    "    arr = i.split(\";\")\n",
    "    for j in arr[:-1]:\n",
    "        vid1_new_pkdir.append(j)\n",
    "        \n",
    "vid2_new_pkdir = []\n",
    "for i in vid2[\"packet_dirs\"]:\n",
    "    arr = i.split(\";\")\n",
    "    for j in arr[:-1]:\n",
    "        vid2_new_pkdir.append(j)\n",
    "        \n",
    "vid3_new_pkdir = []\n",
    "for i in vid3[\"packet_dirs\"]:\n",
    "    arr = i.split(\";\")\n",
    "    for j in arr[:-1]:\n",
    "        vid3_new_pkdir.append(j)"
   ]
  },
  {
   "cell_type": "markdown",
   "metadata": {},
   "source": [
    "We are now separating every packet size to an individual row. This allows us to see and analyze every packet and its direction as individuals."
   ]
  },
  {
   "cell_type": "code",
   "execution_count": 126,
   "metadata": {},
   "outputs": [],
   "source": [
    "#modified internet browsing data with VPN\n",
    "mod_int1 = pd.DataFrame({'packet_sizes': pd.to_numeric(int1_new_pksize), 'packet_dir': pd.to_numeric(int1_new_pkdir)})\n",
    "mod_int2 = pd.DataFrame({'packet_sizes': pd.to_numeric(int2_new_pksize), 'packet_dir': pd.to_numeric(int2_new_pkdir)})\n",
    "mod_int3 = pd.DataFrame({'packet_sizes': pd.to_numeric(int3_new_pksize), 'packet_dir': pd.to_numeric(int3_new_pkdir)})"
   ]
  },
  {
   "cell_type": "code",
   "execution_count": 127,
   "metadata": {},
   "outputs": [],
   "source": [
    "#modified video streaming data with VPN\n",
    "mod_vid1 = pd.DataFrame({'packet_sizes': pd.to_numeric(vid1_new_pksize), 'packet_dir': pd.to_numeric(vid1_new_pkdir)})\n",
    "mod_vid2 = pd.DataFrame({'packet_sizes': pd.to_numeric(vid2_new_pksize), 'packet_dir': pd.to_numeric(vid2_new_pkdir)})\n",
    "mod_vid3 = pd.DataFrame({'packet_sizes': pd.to_numeric(vid3_new_pksize), 'packet_dir': pd.to_numeric(vid3_new_pkdir)})"
   ]
  },
  {
   "cell_type": "code",
   "execution_count": null,
   "metadata": {},
   "outputs": [],
   "source": []
  },
  {
   "cell_type": "code",
   "execution_count": 128,
   "metadata": {},
   "outputs": [
    {
     "data": {
      "text/plain": [
       "<matplotlib.legend.Legend at 0x11b1429b0>"
      ]
     },
     "execution_count": 128,
     "metadata": {},
     "output_type": "execute_result"
    },
    {
     "data": {
      "image/png": "[encoded data removed]",
      "text/plain": [
       "<Figure size 432x288 with 1 Axes>"
      ]
     },
     "metadata": {
      "needs_background": "light"
     },
     "output_type": "display_data"
    }
   ],
   "source": [
    "mod_int1[mod_int1[\"packet_dir\"] == 1][\"packet_sizes\"].plot(kind = \"hist\")\n",
    "mod_int1[mod_int1[\"packet_dir\"] == 2][\"packet_sizes\"].plot(kind = \"hist\")\n",
    "pl.title('Packet Directions vs Packet Size: internet browsing data with VPN')\n",
    "pl.xlabel('Packet Size')\n",
    "pl.ylabel('Frequency')\n",
    "pl.legend([\"1->2\", \"2->1\"])\n"
   ]
  },
  {
   "cell_type": "code",
   "execution_count": 129,
   "metadata": {},
   "outputs": [
    {
     "data": {
      "text/plain": [
       "<matplotlib.legend.Legend at 0x11a69ecc0>"
      ]
     },
     "execution_count": 129,
     "metadata": {},
     "output_type": "execute_result"
    },
    {
     "data": {
      "image/png": "[encoded data removed]",
      "text/plain": [
       "<Figure size 432x288 with 1 Axes>"
      ]
     },
     "metadata": {
      "needs_background": "light"
     },
     "output_type": "display_data"
    }
   ],
   "source": [
    "mod_int2[mod_int2[\"packet_dir\"] == 1][\"packet_sizes\"].plot(kind = \"hist\")\n",
    "mod_int2[mod_int2[\"packet_dir\"] == 2][\"packet_sizes\"].plot(kind = \"hist\")\n",
    "pl.title('Packet Directions vs Packet Size: internet browsing data with VPN')\n",
    "pl.xlabel('Packet Size')\n",
    "pl.ylabel('Frequency')\n",
    "pl.legend([\"1->2\", \"2->1\"])"
   ]
  },
  {
   "cell_type": "code",
   "execution_count": 130,
   "metadata": {},
   "outputs": [
    {
     "data": {
      "text/plain": [
       "<matplotlib.legend.Legend at 0x119604d30>"
      ]
     },
     "execution_count": 130,
     "metadata": {},
     "output_type": "execute_result"
    },
    {
     "data": {
      "image/png": "[encoded data removed]",
      "text/plain": [
       "<Figure size 432x288 with 1 Axes>"
      ]
     },
     "metadata": {
      "needs_background": "light"
     },
     "output_type": "display_data"
    }
   ],
   "source": [
    "mod_int3[mod_int3[\"packet_dir\"] == 1][\"packet_sizes\"].plot(kind = \"hist\")\n",
    "mod_int3[mod_int3[\"packet_dir\"] == 2][\"packet_sizes\"].plot(kind = \"hist\")\n",
    "pl.title('Packet Directions vs Packet Size: internet browsing data with VPN')\n",
    "pl.xlabel('Packet Size')\n",
    "pl.ylabel('Frequency')\n",
    "pl.legend([\"1->2\", \"2->1\"])"
   ]
  },
  {
   "cell_type": "code",
   "execution_count": 131,
   "metadata": {},
   "outputs": [
    {
     "data": {
      "text/plain": [
       "<matplotlib.legend.Legend at 0x11b758e48>"
      ]
     },
     "execution_count": 131,
     "metadata": {},
     "output_type": "execute_result"
    },
    {
     "data": {
      "image/png": "[encoded data removed]",
      "text/plain": [
       "<Figure size 432x288 with 1 Axes>"
      ]
     },
     "metadata": {
      "needs_background": "light"
     },
     "output_type": "display_data"
    }
   ],
   "source": [
    "mod_vid1[mod_vid1[\"packet_dir\"] == 1][\"packet_sizes\"].plot(kind = \"hist\")\n",
    "mod_vid1[mod_vid1[\"packet_dir\"] == 2][\"packet_sizes\"].plot(kind = \"hist\")\n",
    "pl.title('Packet Directions vs Packet Size: video streaming data with VPN')\n",
    "pl.xlabel('Packet Size')\n",
    "pl.ylabel('Frequency')\n",
    "pl.legend([\"1->2\", \"2->1\"])"
   ]
  },
  {
   "cell_type": "code",
   "execution_count": 132,
   "metadata": {},
   "outputs": [
    {
     "data": {
      "text/plain": [
       "<matplotlib.legend.Legend at 0x11cc39f98>"
      ]
     },
     "execution_count": 132,
     "metadata": {},
     "output_type": "execute_result"
    },
    {
     "data": {
      "image/png": "[encoded data removed]",
      "text/plain": [
       "<Figure size 432x288 with 1 Axes>"
      ]
     },
     "metadata": {
      "needs_background": "light"
     },
     "output_type": "display_data"
    }
   ],
   "source": [
    "mod_vid2[mod_vid2[\"packet_dir\"] == 1][\"packet_sizes\"].plot(kind = \"hist\")\n",
    "mod_vid2[mod_vid2[\"packet_dir\"] == 2][\"packet_sizes\"].plot(kind = \"hist\")\n",
    "pl.title('Packet Directions vs Packet Size: video streaming data with VPN')\n",
    "pl.xlabel('Packet Size')\n",
    "pl.ylabel('Frequency')\n",
    "pl.legend([\"1->2\", \"2->1\"])"
   ]
  },
  {
   "cell_type": "code",
   "execution_count": 133,
   "metadata": {},
   "outputs": [
    {
     "data": {
      "text/plain": [
       "<matplotlib.legend.Legend at 0x11c9c6cf8>"
      ]
     },
     "execution_count": 133,
     "metadata": {},
     "output_type": "execute_result"
    },
    {
     "data": {
      "image/png": "[encoded data removed]",
      "text/plain": [
       "<Figure size 432x288 with 1 Axes>"
      ]
     },
     "metadata": {
      "needs_background": "light"
     },
     "output_type": "display_data"
    }
   ],
   "source": [
    "mod_vid3[mod_vid3[\"packet_dir\"] == 1][\"packet_sizes\"].plot(kind = \"hist\")\n",
    "mod_vid3[mod_vid3[\"packet_dir\"] == 2][\"packet_sizes\"].plot(kind = \"hist\")\n",
    "pl.title('Packet Directions vs Packet Size: video streaming data with VPN')\n",
    "pl.xlabel('Packet Size')\n",
    "pl.ylabel('Frequency')\n",
    "pl.legend([\"1->2\", \"2->1\"])"
   ]
  },
  {
   "cell_type": "markdown",
   "metadata": {},
   "source": [
    "Here we are continuing to look at perform EDA by looking at mean, STD, max, min values of the datasets"
   ]
  },
  {
   "cell_type": "code",
   "execution_count": 134,
   "metadata": {},
   "outputs": [
    {
     "data": {
      "text/html": [
       "<div>\n",
       "<style scoped>\n",
       "    .dataframe tbody tr th:only-of-type {\n",
       "        vertical-align: middle;\n",
       "    }\n",
       "\n",
       "    .dataframe tbody tr th {\n",
       "        vertical-align: top;\n",
       "    }\n",
       "\n",
       "    .dataframe thead th {\n",
       "        text-align: right;\n",
       "    }\n",
       "</style>\n",
       "<table border=\"1\" class=\"dataframe\">\n",
       "  <thead>\n",
       "    <tr style=\"text-align: right;\">\n",
       "      <th></th>\n",
       "      <th>packet_sizes</th>\n",
       "      <th>packet_dir</th>\n",
       "    </tr>\n",
       "  </thead>\n",
       "  <tbody>\n",
       "    <tr>\n",
       "      <th>count</th>\n",
       "      <td>63092.000000</td>\n",
       "      <td>63092.000000</td>\n",
       "    </tr>\n",
       "    <tr>\n",
       "      <th>mean</th>\n",
       "      <td>703.462246</td>\n",
       "      <td>1.670196</td>\n",
       "    </tr>\n",
       "    <tr>\n",
       "      <th>std</th>\n",
       "      <td>580.157708</td>\n",
       "      <td>0.470146</td>\n",
       "    </tr>\n",
       "    <tr>\n",
       "      <th>min</th>\n",
       "      <td>40.000000</td>\n",
       "      <td>1.000000</td>\n",
       "    </tr>\n",
       "    <tr>\n",
       "      <th>25%</th>\n",
       "      <td>66.000000</td>\n",
       "      <td>1.000000</td>\n",
       "    </tr>\n",
       "    <tr>\n",
       "      <th>50%</th>\n",
       "      <td>576.000000</td>\n",
       "      <td>2.000000</td>\n",
       "    </tr>\n",
       "    <tr>\n",
       "      <th>75%</th>\n",
       "      <td>1280.000000</td>\n",
       "      <td>2.000000</td>\n",
       "    </tr>\n",
       "    <tr>\n",
       "      <th>max</th>\n",
       "      <td>1378.000000</td>\n",
       "      <td>2.000000</td>\n",
       "    </tr>\n",
       "  </tbody>\n",
       "</table>\n",
       "</div>"
      ],
      "text/plain": [
       "       packet_sizes    packet_dir\n",
       "count  63092.000000  63092.000000\n",
       "mean     703.462246      1.670196\n",
       "std      580.157708      0.470146\n",
       "min       40.000000      1.000000\n",
       "25%       66.000000      1.000000\n",
       "50%      576.000000      2.000000\n",
       "75%     1280.000000      2.000000\n",
       "max     1378.000000      2.000000"
      ]
     },
     "execution_count": 134,
     "metadata": {},
     "output_type": "execute_result"
    }
   ],
   "source": [
    "mod_int1.describe()"
   ]
  },
  {
   "cell_type": "code",
   "execution_count": 135,
   "metadata": {},
   "outputs": [
    {
     "data": {
      "text/html": [
       "<div>\n",
       "<style scoped>\n",
       "    .dataframe tbody tr th:only-of-type {\n",
       "        vertical-align: middle;\n",
       "    }\n",
       "\n",
       "    .dataframe tbody tr th {\n",
       "        vertical-align: top;\n",
       "    }\n",
       "\n",
       "    .dataframe thead th {\n",
       "        text-align: right;\n",
       "    }\n",
       "</style>\n",
       "<table border=\"1\" class=\"dataframe\">\n",
       "  <thead>\n",
       "    <tr style=\"text-align: right;\">\n",
       "      <th></th>\n",
       "      <th>packet_sizes</th>\n",
       "      <th>packet_dir</th>\n",
       "    </tr>\n",
       "  </thead>\n",
       "  <tbody>\n",
       "    <tr>\n",
       "      <th>count</th>\n",
       "      <td>8690.000000</td>\n",
       "      <td>8690.000000</td>\n",
       "    </tr>\n",
       "    <tr>\n",
       "      <th>mean</th>\n",
       "      <td>199.798734</td>\n",
       "      <td>1.441772</td>\n",
       "    </tr>\n",
       "    <tr>\n",
       "      <th>std</th>\n",
       "      <td>231.573326</td>\n",
       "      <td>0.496627</td>\n",
       "    </tr>\n",
       "    <tr>\n",
       "      <th>min</th>\n",
       "      <td>40.000000</td>\n",
       "      <td>1.000000</td>\n",
       "    </tr>\n",
       "    <tr>\n",
       "      <th>25%</th>\n",
       "      <td>108.000000</td>\n",
       "      <td>1.000000</td>\n",
       "    </tr>\n",
       "    <tr>\n",
       "      <th>50%</th>\n",
       "      <td>126.000000</td>\n",
       "      <td>1.000000</td>\n",
       "    </tr>\n",
       "    <tr>\n",
       "      <th>75%</th>\n",
       "      <td>162.000000</td>\n",
       "      <td>2.000000</td>\n",
       "    </tr>\n",
       "    <tr>\n",
       "      <th>max</th>\n",
       "      <td>1378.000000</td>\n",
       "      <td>2.000000</td>\n",
       "    </tr>\n",
       "  </tbody>\n",
       "</table>\n",
       "</div>"
      ],
      "text/plain": [
       "       packet_sizes   packet_dir\n",
       "count   8690.000000  8690.000000\n",
       "mean     199.798734     1.441772\n",
       "std      231.573326     0.496627\n",
       "min       40.000000     1.000000\n",
       "25%      108.000000     1.000000\n",
       "50%      126.000000     1.000000\n",
       "75%      162.000000     2.000000\n",
       "max     1378.000000     2.000000"
      ]
     },
     "execution_count": 135,
     "metadata": {},
     "output_type": "execute_result"
    }
   ],
   "source": [
    "mod_int2.describe()"
   ]
  },
  {
   "cell_type": "code",
   "execution_count": 136,
   "metadata": {},
   "outputs": [
    {
     "data": {
      "text/html": [
       "<div>\n",
       "<style scoped>\n",
       "    .dataframe tbody tr th:only-of-type {\n",
       "        vertical-align: middle;\n",
       "    }\n",
       "\n",
       "    .dataframe tbody tr th {\n",
       "        vertical-align: top;\n",
       "    }\n",
       "\n",
       "    .dataframe thead th {\n",
       "        text-align: right;\n",
       "    }\n",
       "</style>\n",
       "<table border=\"1\" class=\"dataframe\">\n",
       "  <thead>\n",
       "    <tr style=\"text-align: right;\">\n",
       "      <th></th>\n",
       "      <th>packet_sizes</th>\n",
       "      <th>packet_dir</th>\n",
       "    </tr>\n",
       "  </thead>\n",
       "  <tbody>\n",
       "    <tr>\n",
       "      <th>count</th>\n",
       "      <td>20288.000000</td>\n",
       "      <td>20288.000000</td>\n",
       "    </tr>\n",
       "    <tr>\n",
       "      <th>mean</th>\n",
       "      <td>491.443119</td>\n",
       "      <td>1.527455</td>\n",
       "    </tr>\n",
       "    <tr>\n",
       "      <th>std</th>\n",
       "      <td>540.806680</td>\n",
       "      <td>0.499258</td>\n",
       "    </tr>\n",
       "    <tr>\n",
       "      <th>min</th>\n",
       "      <td>36.000000</td>\n",
       "      <td>1.000000</td>\n",
       "    </tr>\n",
       "    <tr>\n",
       "      <th>25%</th>\n",
       "      <td>52.000000</td>\n",
       "      <td>1.000000</td>\n",
       "    </tr>\n",
       "    <tr>\n",
       "      <th>50%</th>\n",
       "      <td>130.000000</td>\n",
       "      <td>2.000000</td>\n",
       "    </tr>\n",
       "    <tr>\n",
       "      <th>75%</th>\n",
       "      <td>1290.000000</td>\n",
       "      <td>2.000000</td>\n",
       "    </tr>\n",
       "    <tr>\n",
       "      <th>max</th>\n",
       "      <td>1378.000000</td>\n",
       "      <td>2.000000</td>\n",
       "    </tr>\n",
       "  </tbody>\n",
       "</table>\n",
       "</div>"
      ],
      "text/plain": [
       "       packet_sizes    packet_dir\n",
       "count  20288.000000  20288.000000\n",
       "mean     491.443119      1.527455\n",
       "std      540.806680      0.499258\n",
       "min       36.000000      1.000000\n",
       "25%       52.000000      1.000000\n",
       "50%      130.000000      2.000000\n",
       "75%     1290.000000      2.000000\n",
       "max     1378.000000      2.000000"
      ]
     },
     "execution_count": 136,
     "metadata": {},
     "output_type": "execute_result"
    }
   ],
   "source": [
    "mod_int3.describe()"
   ]
  },
  {
   "cell_type": "code",
   "execution_count": 137,
   "metadata": {},
   "outputs": [
    {
     "data": {
      "text/html": [
       "<div>\n",
       "<style scoped>\n",
       "    .dataframe tbody tr th:only-of-type {\n",
       "        vertical-align: middle;\n",
       "    }\n",
       "\n",
       "    .dataframe tbody tr th {\n",
       "        vertical-align: top;\n",
       "    }\n",
       "\n",
       "    .dataframe thead th {\n",
       "        text-align: right;\n",
       "    }\n",
       "</style>\n",
       "<table border=\"1\" class=\"dataframe\">\n",
       "  <thead>\n",
       "    <tr style=\"text-align: right;\">\n",
       "      <th></th>\n",
       "      <th>packet_sizes</th>\n",
       "      <th>packet_dir</th>\n",
       "    </tr>\n",
       "  </thead>\n",
       "  <tbody>\n",
       "    <tr>\n",
       "      <th>count</th>\n",
       "      <td>111324.000000</td>\n",
       "      <td>111324.000000</td>\n",
       "    </tr>\n",
       "    <tr>\n",
       "      <th>mean</th>\n",
       "      <td>730.253198</td>\n",
       "      <td>1.400758</td>\n",
       "    </tr>\n",
       "    <tr>\n",
       "      <th>std</th>\n",
       "      <td>573.696272</td>\n",
       "      <td>0.490054</td>\n",
       "    </tr>\n",
       "    <tr>\n",
       "      <th>min</th>\n",
       "      <td>32.000000</td>\n",
       "      <td>1.000000</td>\n",
       "    </tr>\n",
       "    <tr>\n",
       "      <th>25%</th>\n",
       "      <td>199.000000</td>\n",
       "      <td>1.000000</td>\n",
       "    </tr>\n",
       "    <tr>\n",
       "      <th>50%</th>\n",
       "      <td>440.000000</td>\n",
       "      <td>1.000000</td>\n",
       "    </tr>\n",
       "    <tr>\n",
       "      <th>75%</th>\n",
       "      <td>1378.000000</td>\n",
       "      <td>2.000000</td>\n",
       "    </tr>\n",
       "    <tr>\n",
       "      <th>max</th>\n",
       "      <td>1500.000000</td>\n",
       "      <td>2.000000</td>\n",
       "    </tr>\n",
       "  </tbody>\n",
       "</table>\n",
       "</div>"
      ],
      "text/plain": [
       "        packet_sizes     packet_dir\n",
       "count  111324.000000  111324.000000\n",
       "mean      730.253198       1.400758\n",
       "std       573.696272       0.490054\n",
       "min        32.000000       1.000000\n",
       "25%       199.000000       1.000000\n",
       "50%       440.000000       1.000000\n",
       "75%      1378.000000       2.000000\n",
       "max      1500.000000       2.000000"
      ]
     },
     "execution_count": 137,
     "metadata": {},
     "output_type": "execute_result"
    }
   ],
   "source": [
    "mod_vid1.describe()"
   ]
  },
  {
   "cell_type": "code",
   "execution_count": 138,
   "metadata": {},
   "outputs": [
    {
     "data": {
      "text/html": [
       "<div>\n",
       "<style scoped>\n",
       "    .dataframe tbody tr th:only-of-type {\n",
       "        vertical-align: middle;\n",
       "    }\n",
       "\n",
       "    .dataframe tbody tr th {\n",
       "        vertical-align: top;\n",
       "    }\n",
       "\n",
       "    .dataframe thead th {\n",
       "        text-align: right;\n",
       "    }\n",
       "</style>\n",
       "<table border=\"1\" class=\"dataframe\">\n",
       "  <thead>\n",
       "    <tr style=\"text-align: right;\">\n",
       "      <th></th>\n",
       "      <th>packet_sizes</th>\n",
       "      <th>packet_dir</th>\n",
       "    </tr>\n",
       "  </thead>\n",
       "  <tbody>\n",
       "    <tr>\n",
       "      <th>count</th>\n",
       "      <td>85233.000000</td>\n",
       "      <td>85233.00000</td>\n",
       "    </tr>\n",
       "    <tr>\n",
       "      <th>mean</th>\n",
       "      <td>559.304565</td>\n",
       "      <td>1.25354</td>\n",
       "    </tr>\n",
       "    <tr>\n",
       "      <th>std</th>\n",
       "      <td>528.442907</td>\n",
       "      <td>0.43504</td>\n",
       "    </tr>\n",
       "    <tr>\n",
       "      <th>min</th>\n",
       "      <td>32.000000</td>\n",
       "      <td>1.00000</td>\n",
       "    </tr>\n",
       "    <tr>\n",
       "      <th>25%</th>\n",
       "      <td>151.000000</td>\n",
       "      <td>1.00000</td>\n",
       "    </tr>\n",
       "    <tr>\n",
       "      <th>50%</th>\n",
       "      <td>319.000000</td>\n",
       "      <td>1.00000</td>\n",
       "    </tr>\n",
       "    <tr>\n",
       "      <th>75%</th>\n",
       "      <td>1378.000000</td>\n",
       "      <td>2.00000</td>\n",
       "    </tr>\n",
       "    <tr>\n",
       "      <th>max</th>\n",
       "      <td>1500.000000</td>\n",
       "      <td>2.00000</td>\n",
       "    </tr>\n",
       "  </tbody>\n",
       "</table>\n",
       "</div>"
      ],
      "text/plain": [
       "       packet_sizes   packet_dir\n",
       "count  85233.000000  85233.00000\n",
       "mean     559.304565      1.25354\n",
       "std      528.442907      0.43504\n",
       "min       32.000000      1.00000\n",
       "25%      151.000000      1.00000\n",
       "50%      319.000000      1.00000\n",
       "75%     1378.000000      2.00000\n",
       "max     1500.000000      2.00000"
      ]
     },
     "execution_count": 138,
     "metadata": {},
     "output_type": "execute_result"
    }
   ],
   "source": [
    "mod_vid2.describe()"
   ]
  },
  {
   "cell_type": "code",
   "execution_count": 139,
   "metadata": {},
   "outputs": [
    {
     "data": {
      "text/html": [
       "<div>\n",
       "<style scoped>\n",
       "    .dataframe tbody tr th:only-of-type {\n",
       "        vertical-align: middle;\n",
       "    }\n",
       "\n",
       "    .dataframe tbody tr th {\n",
       "        vertical-align: top;\n",
       "    }\n",
       "\n",
       "    .dataframe thead th {\n",
       "        text-align: right;\n",
       "    }\n",
       "</style>\n",
       "<table border=\"1\" class=\"dataframe\">\n",
       "  <thead>\n",
       "    <tr style=\"text-align: right;\">\n",
       "      <th></th>\n",
       "      <th>packet_sizes</th>\n",
       "      <th>packet_dir</th>\n",
       "    </tr>\n",
       "  </thead>\n",
       "  <tbody>\n",
       "    <tr>\n",
       "      <th>count</th>\n",
       "      <td>66519.000000</td>\n",
       "      <td>66519.000000</td>\n",
       "    </tr>\n",
       "    <tr>\n",
       "      <th>mean</th>\n",
       "      <td>657.164930</td>\n",
       "      <td>1.337287</td>\n",
       "    </tr>\n",
       "    <tr>\n",
       "      <th>std</th>\n",
       "      <td>555.963748</td>\n",
       "      <td>0.472787</td>\n",
       "    </tr>\n",
       "    <tr>\n",
       "      <th>min</th>\n",
       "      <td>32.000000</td>\n",
       "      <td>1.000000</td>\n",
       "    </tr>\n",
       "    <tr>\n",
       "      <th>25%</th>\n",
       "      <td>192.000000</td>\n",
       "      <td>1.000000</td>\n",
       "    </tr>\n",
       "    <tr>\n",
       "      <th>50%</th>\n",
       "      <td>410.000000</td>\n",
       "      <td>1.000000</td>\n",
       "    </tr>\n",
       "    <tr>\n",
       "      <th>75%</th>\n",
       "      <td>1378.000000</td>\n",
       "      <td>2.000000</td>\n",
       "    </tr>\n",
       "    <tr>\n",
       "      <th>max</th>\n",
       "      <td>1500.000000</td>\n",
       "      <td>2.000000</td>\n",
       "    </tr>\n",
       "  </tbody>\n",
       "</table>\n",
       "</div>"
      ],
      "text/plain": [
       "       packet_sizes    packet_dir\n",
       "count  66519.000000  66519.000000\n",
       "mean     657.164930      1.337287\n",
       "std      555.963748      0.472787\n",
       "min       32.000000      1.000000\n",
       "25%      192.000000      1.000000\n",
       "50%      410.000000      1.000000\n",
       "75%     1378.000000      2.000000\n",
       "max     1500.000000      2.000000"
      ]
     },
     "execution_count": 139,
     "metadata": {},
     "output_type": "execute_result"
    }
   ],
   "source": [
    "mod_vid3.describe()"
   ]
  },
  {
   "cell_type": "code",
   "execution_count": null,
   "metadata": {},
   "outputs": [],
   "source": []
  },
  {
   "cell_type": "markdown",
   "metadata": {},
   "source": [
    "## Feature Engineering"
   ]
  },
  {
   "cell_type": "markdown",
   "metadata": {},
   "source": [
    "Feature #1: Binary Mean "
   ]
  },
  {
   "cell_type": "markdown",
   "metadata": {},
   "source": [
    "1. take into account the mean of the packet sizes for the data set (binary column)\n",
    "\n",
    "0 = if mean of packet_sizes is < 500 (found from datasets of video streaming and internet browsing on vpn)\n",
    "\n",
    "1 = if mean of packet_sizes is > 500\n",
    "\n",
    "the idea here is that is a lot of packet sizes are larger than 500, it is video streaming. \n"
   ]
  },
  {
   "cell_type": "markdown",
   "metadata": {},
   "source": [
    "This function returns a new column (series) of binary (0/1) data \n",
    "**make sure parameter data is modified and split (one packet size per row)"
   ]
  },
  {
   "cell_type": "code",
   "execution_count": 140,
   "metadata": {},
   "outputs": [],
   "source": [
    "def binarymean_packetsizes(modified_data):\n",
    "    return (modified_data[\"packet_sizes\"] > 500).replace({True: 1, False: 0})"
   ]
  },
  {
   "cell_type": "code",
   "execution_count": null,
   "metadata": {},
   "outputs": [],
   "source": []
  },
  {
   "cell_type": "markdown",
   "metadata": {},
   "source": [
    "Feature #2: Binary Min"
   ]
  },
  {
   "cell_type": "markdown",
   "metadata": {},
   "source": [
    "When looking at the min/max of the packet_sizes for the activity, I noticed that the min value of packet_sizes was always 32 for video streaming. VS for internet browsing, it never got under 36. For that reason I want to see if this feature adds some accuracy to the model. "
   ]
  },
  {
   "cell_type": "markdown",
   "metadata": {},
   "source": [
    "0 = greater than 32\n",
    "\n",
    "1 = 32 or less"
   ]
  },
  {
   "cell_type": "code",
   "execution_count": 141,
   "metadata": {},
   "outputs": [],
   "source": [
    "def binarymin_packetsizes(modified_data):\n",
    "    return (modified_data[\"packet_sizes\"].min() <= 32)"
   ]
  },
  {
   "cell_type": "code",
   "execution_count": 142,
   "metadata": {},
   "outputs": [],
   "source": [
    "!export PATH=/Library/TeX/texbin:$PATH"
   ]
  },
  {
   "cell_type": "code",
   "execution_count": 145,
   "metadata": {},
   "outputs": [
    {
     "ename": "SyntaxError",
     "evalue": "invalid syntax (<ipython-input-145-34652316e6e6>, line 1)",
     "output_type": "error",
     "traceback": [
      "\u001b[0;36m  File \u001b[0;32m\"<ipython-input-145-34652316e6e6>\"\u001b[0;36m, line \u001b[0;32m1\u001b[0m\n\u001b[0;31m    jupyter nbconvert your_notebook.ipynb --to pdf\u001b[0m\n\u001b[0m                    ^\u001b[0m\n\u001b[0;31mSyntaxError\u001b[0m\u001b[0;31m:\u001b[0m invalid syntax\n"
     ]
    }
   ],
   "source": [
    "jupyter nbconvert your_notebook.ipynb --to pdf"
   ]
  },
  {
   "cell_type": "code",
   "execution_count": 144,
   "metadata": {},
   "outputs": [],
   "source": [
    "import nbconvert"
   ]
  },
  {
   "cell_type": "code",
   "execution_count": null,
   "metadata": {},
   "outputs": [],
   "source": []
  }
 ],
 "metadata": {
  "kernelspec": {
   "display_name": "Python 3",
   "language": "python",
   "name": "python3"
  },
  "language_info": {
   "codemirror_mode": {
    "name": "ipython",
    "version": 3
   },
   "file_extension": ".py",
   "mimetype": "text/x-python",
   "name": "python",
   "nbconvert_exporter": "python",
   "pygments_lexer": "ipython3",
   "version": "3.6.10"
  }
 },
 "nbformat": 4,
 "nbformat_minor": 2
}
