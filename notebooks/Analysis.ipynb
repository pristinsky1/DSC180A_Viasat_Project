{
 "cells": [
  {
   "cell_type": "markdown",
   "metadata": {},
   "source": [
    "# Analysis\n"
   ]
  },
  {
   "cell_type": "code",
   "execution_count": 3,
   "metadata": {},
   "outputs": [],
   "source": [
    "import pandas as pd\n",
    "import numpy as np\n",
    "import matplotlib.pyplot as plt"
   ]
  },
  {
   "cell_type": "markdown",
   "metadata": {},
   "source": [
    "## Data Loaded in"
   ]
  },
  {
   "cell_type": "code",
   "execution_count": 4,
   "metadata": {},
   "outputs": [],
   "source": [
    "# full 30min dataset for streaming video on vpn\n",
    "yes = pd.read_csv(\"apristin-youtube[1440p60]-1x-vpn-windows-noisy-20201102.csv\")\n",
    "# full 30min dataset for web browsing on vpn\n",
    "no = pd.read_csv(\"apristin-novideo-vpn-windows-20201109.csv\")\n",
    "\n",
    "# 5 minute chunks of streaming video on vpn\n",
    "yes_0 = pd.read_csv(\"apristin-youtube[1440p60]-1x-vpn-windows-noisy-20201102-0.csv\")\n",
    "yes_1 = pd.read_csv(\"apristin-youtube[1440p60]-1x-vpn-windows-noisy-20201102-1.csv\")\n",
    "yes_2 = pd.read_csv(\"apristin-youtube[1440p60]-1x-vpn-windows-noisy-20201102-2.csv\")\n",
    "yes_3 = pd.read_csv(\"apristin-youtube[1440p60]-1x-vpn-windows-noisy-20201102-3.csv\")\n",
    "yes_4 = pd.read_csv(\"apristin-youtube[1440p60]-1x-vpn-windows-noisy-20201102-4.csv\")\n",
    "yes_5 = pd.read_csv(\"apristin-youtube[1440p60]-1x-vpn-windows-noisy-20201102-5.csv\")\n",
    "# 5 minute chuncks of web browsing on vpn\n",
    "no_0 = pd.read_csv(\"apristin-novideo-vpn-windows-20201109-0.csv\")\n",
    "no_1 = pd.read_csv(\"apristin-novideo-vpn-windows-20201109-1.csv\")\n",
    "no_2 = pd.read_csv(\"apristin-novideo-vpn-windows-20201109-2.csv\")\n",
    "no_3 = pd.read_csv(\"apristin-novideo-vpn-windows-20201109-3.csv\")\n",
    "no_4 = pd.read_csv(\"apristin-novideo-vpn-windows-20201109-4.csv\")\n",
    "no_5 = pd.read_csv(\"apristin-novideo-vpn-windows-20201109-5.csv\")"
   ]
  },
  {
   "cell_type": "markdown",
   "metadata": {},
   "source": [
    "# Packet Size Analysis"
   ]
  },
  {
   "cell_type": "markdown",
   "metadata": {},
   "source": [
    "### Since the majority of packet sizes range from 0-300 bytes and 1200-1500 bytes, I think that developing a feature on the counts of those ranges can be beneficial in discovering if streaming is occuring."
   ]
  },
  {
   "cell_type": "markdown",
   "metadata": {},
   "source": [
    "### The way that I would use the two features I created above in my machine learning model would be by looking at the counts of the byte ranges and training my model on this since there is a clear divide between the range count of streaming vs non-streaming, as the count of the ranges are significantly higher when streaming is occuring. This is evident in my examples below for no streaming vs streaming."
   ]
  },
  {
   "cell_type": "code",
   "execution_count": 7,
   "metadata": {},
   "outputs": [
    {
     "name": "stdout",
     "output_type": "stream",
     "text": [
      "   Dir1_ByteCount_0to300  Dir2_ByteCount_1200to1500\n",
      "0                      5                          0\n",
      "1                      1                          0\n",
      "2                      0                          0\n",
      "3                      0                          0\n",
      "4                      2                          0\n",
      "Streaming Byte Count:\n"
     ]
    },
    {
     "data": {
      "text/plain": [
       "Dir1_ByteCount_0to300        15954\n",
       "Dir2_ByteCount_1200to1500     7624\n",
       "dtype: int64"
      ]
     },
     "execution_count": 7,
     "metadata": {},
     "output_type": "execute_result"
    }
   ],
   "source": [
    "#Example of byte count feature extraction on the no streaming dataset:\n",
    "no_streaming_viz(no)"
   ]
  },
  {
   "cell_type": "code",
   "execution_count": 20,
   "metadata": {},
   "outputs": [
    {
     "name": "stdout",
     "output_type": "stream",
     "text": [
      "   Dir1_ByteCount_0to300  Dir2_ByteCount_1200to1500\n",
      "0                   1288                       2232\n",
      "1                    709                       1402\n",
      "2                   1646                       3124\n",
      "3                    585                        876\n",
      "4                      2                          0\n",
      "Streaming Byte Count:\n"
     ]
    },
    {
     "data": {
      "text/plain": [
       "Dir1_ByteCount_0to300        194108\n",
       "Dir2_ByteCount_1200to1500    430519\n",
       "dtype: int64"
      ]
     },
     "execution_count": 20,
     "metadata": {},
     "output_type": "execute_result"
    }
   ],
   "source": [
    "#Example of byte count feature extraction on the streaming dataset:\n",
    "streaming_viz(yes)"
   ]
  }
 ],
 "metadata": {
  "kernelspec": {
   "display_name": "Python 3",
   "language": "python",
   "name": "python3"
  },
  "language_info": {
   "codemirror_mode": {
    "name": "ipython",
    "version": 3
   },
   "file_extension": ".py",
   "mimetype": "text/x-python",
   "name": "python",
   "nbconvert_exporter": "python",
   "pygments_lexer": "ipython3",
   "version": "3.7.9"
  }
 },
 "nbformat": 4,
 "nbformat_minor": 4
}
